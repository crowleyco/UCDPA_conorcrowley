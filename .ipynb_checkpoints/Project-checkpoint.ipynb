{
 "cells": [
  {
   "cell_type": "markdown",
   "id": "ac6d40ef-e789-4149-aa56-229f76c98975",
   "metadata": {},
   "source": [
    "# Importing packages"
   ]
  },
  {
   "cell_type": "code",
   "execution_count": 1,
   "id": "fe37ed47-cc8a-4810-8e56-f194f12852a5",
   "metadata": {},
   "outputs": [],
   "source": [
    "import pandas as pd\n",
    "import seaborn as sns\n",
    "import matplotlib.pyplot as plt"
   ]
  },
  {
   "cell_type": "markdown",
   "id": "59d8e31b-08a8-4efb-8427-cb18465e0326",
   "metadata": {},
   "source": [
    "# Importing data"
   ]
  },
  {
   "cell_type": "code",
   "execution_count": 2,
   "id": "9d83ab69",
   "metadata": {},
   "outputs": [],
   "source": [
    "marriage = pd.read_csv('Marriage.csv')"
   ]
  },
  {
   "cell_type": "code",
   "execution_count": 3,
   "id": "636c0bb4-9d34-4a70-8bc4-61afd8bca7b6",
   "metadata": {},
   "outputs": [],
   "source": [
    "education = pd.read_csv('Education.csv')"
   ]
  },
  {
   "cell_type": "markdown",
   "id": "b638e3c0-c5bf-4017-9751-9ccbd1a78f49",
   "metadata": {},
   "source": [
    "# Cleaning Marriage data"
   ]
  },
  {
   "cell_type": "code",
   "execution_count": 4,
   "id": "be3df45e-bbf4-4cde-9a30-875d9ae32882",
   "metadata": {},
   "outputs": [
    {
     "name": "stdout",
     "output_type": "stream",
     "text": [
      "<class 'pandas.core.frame.DataFrame'>\n",
      "RangeIndex: 352 entries, 0 to 351\n",
      "Data columns (total 8 columns):\n",
      " #   Column            Non-Null Count  Dtype  \n",
      "---  ------            --------------  -----  \n",
      " 0   STATISTIC         352 non-null    object \n",
      " 1   Statistic Label   352 non-null    object \n",
      " 2   TLIST(A1)         352 non-null    int64  \n",
      " 3   Year              352 non-null    int64  \n",
      " 4   C01940V02373      352 non-null    object \n",
      " 5   Form of Ceremony  352 non-null    object \n",
      " 6   UNIT              352 non-null    object \n",
      " 7   VALUE             308 non-null    float64\n",
      "dtypes: float64(1), int64(2), object(5)\n",
      "memory usage: 22.1+ KB\n"
     ]
    }
   ],
   "source": [
    "marriage.info()"
   ]
  },
  {
   "cell_type": "code",
   "execution_count": 5,
   "id": "4157fc34-9a52-44a8-836d-113ec8e3edd4",
   "metadata": {},
   "outputs": [
    {
     "data": {
      "text/html": [
       "<div>\n",
       "<style scoped>\n",
       "    .dataframe tbody tr th:only-of-type {\n",
       "        vertical-align: middle;\n",
       "    }\n",
       "\n",
       "    .dataframe tbody tr th {\n",
       "        vertical-align: top;\n",
       "    }\n",
       "\n",
       "    .dataframe thead th {\n",
       "        text-align: right;\n",
       "    }\n",
       "</style>\n",
       "<table border=\"1\" class=\"dataframe\">\n",
       "  <thead>\n",
       "    <tr style=\"text-align: right;\">\n",
       "      <th></th>\n",
       "      <th>STATISTIC</th>\n",
       "      <th>Statistic Label</th>\n",
       "      <th>TLIST(A1)</th>\n",
       "      <th>Year</th>\n",
       "      <th>C01940V02373</th>\n",
       "      <th>Form of Ceremony</th>\n",
       "      <th>UNIT</th>\n",
       "      <th>VALUE</th>\n",
       "    </tr>\n",
       "  </thead>\n",
       "  <tbody>\n",
       "    <tr>\n",
       "      <th>0</th>\n",
       "      <td>VSA42C01</td>\n",
       "      <td>Average Age of Groom</td>\n",
       "      <td>2000</td>\n",
       "      <td>2000</td>\n",
       "      <td>-</td>\n",
       "      <td>All ceremonies</td>\n",
       "      <td>Years</td>\n",
       "      <td>32.1</td>\n",
       "    </tr>\n",
       "    <tr>\n",
       "      <th>1</th>\n",
       "      <td>VSA42C01</td>\n",
       "      <td>Average Age of Groom</td>\n",
       "      <td>2000</td>\n",
       "      <td>2000</td>\n",
       "      <td>1</td>\n",
       "      <td>Roman Catholic</td>\n",
       "      <td>Years</td>\n",
       "      <td>31.1</td>\n",
       "    </tr>\n",
       "    <tr>\n",
       "      <th>2</th>\n",
       "      <td>VSA42C01</td>\n",
       "      <td>Average Age of Groom</td>\n",
       "      <td>2000</td>\n",
       "      <td>2000</td>\n",
       "      <td>2</td>\n",
       "      <td>Church of Ireland</td>\n",
       "      <td>Years</td>\n",
       "      <td>32.5</td>\n",
       "    </tr>\n",
       "    <tr>\n",
       "      <th>3</th>\n",
       "      <td>VSA42C01</td>\n",
       "      <td>Average Age of Groom</td>\n",
       "      <td>2000</td>\n",
       "      <td>2000</td>\n",
       "      <td>3</td>\n",
       "      <td>Presbyterian</td>\n",
       "      <td>Years</td>\n",
       "      <td>32.7</td>\n",
       "    </tr>\n",
       "    <tr>\n",
       "      <th>4</th>\n",
       "      <td>VSA42C01</td>\n",
       "      <td>Average Age of Groom</td>\n",
       "      <td>2000</td>\n",
       "      <td>2000</td>\n",
       "      <td>7</td>\n",
       "      <td>Other religious denominations</td>\n",
       "      <td>Years</td>\n",
       "      <td>31.1</td>\n",
       "    </tr>\n",
       "  </tbody>\n",
       "</table>\n",
       "</div>"
      ],
      "text/plain": [
       "  STATISTIC       Statistic Label  TLIST(A1)  Year C01940V02373  \\\n",
       "0  VSA42C01  Average Age of Groom       2000  2000            -   \n",
       "1  VSA42C01  Average Age of Groom       2000  2000            1   \n",
       "2  VSA42C01  Average Age of Groom       2000  2000            2   \n",
       "3  VSA42C01  Average Age of Groom       2000  2000            3   \n",
       "4  VSA42C01  Average Age of Groom       2000  2000            7   \n",
       "\n",
       "                Form of Ceremony   UNIT  VALUE  \n",
       "0                 All ceremonies  Years   32.1  \n",
       "1                 Roman Catholic  Years   31.1  \n",
       "2              Church of Ireland  Years   32.5  \n",
       "3                   Presbyterian  Years   32.7  \n",
       "4  Other religious denominations  Years   31.1  "
      ]
     },
     "execution_count": 5,
     "metadata": {},
     "output_type": "execute_result"
    }
   ],
   "source": [
    "marriage.head()"
   ]
  },
  {
   "cell_type": "markdown",
   "id": "572908ee-7c0b-4a51-998e-168deec41fb4",
   "metadata": {},
   "source": [
    "#Drop missing values, Drop Extra Columns, Rename remaining columns, Set Year as index, slice index from 2009 onwards"
   ]
  },
  {
   "cell_type": "code",
   "execution_count": 6,
   "id": "1d1e1fbe-a53d-4b3b-b75e-3dc544035c37",
   "metadata": {},
   "outputs": [],
   "source": [
    "marriage_clean = marriage.dropna()"
   ]
  },
  {
   "cell_type": "code",
   "execution_count": 7,
   "id": "01150bf7-04b7-42c6-95af-d49cd5cea263",
   "metadata": {},
   "outputs": [],
   "source": [
    "marriage_new = marriage_clean.drop([\"STATISTIC\",\"TLIST(A1)\",\"C01940V02373\",\"UNIT\"],axis=1)"
   ]
  },
  {
   "cell_type": "code",
   "execution_count": 8,
   "id": "ba592e35-a790-455b-9950-834589494f43",
   "metadata": {},
   "outputs": [],
   "source": [
    "marriage_tidy = marriage_new.rename({\"Statistic Label\":\"Gender\",\"Form of Ceremony\":\"Ceremony\",\"VALUE\":\"Age\"},axis = 1)"
   ]
  },
  {
   "cell_type": "code",
   "execution_count": 9,
   "id": "1b6f363d-b7f8-48e8-9ea2-c755759d0392",
   "metadata": {},
   "outputs": [],
   "source": [
    "marriage_byyear = marriage_tidy.set_index(\"Year\").sort_index().loc[2009:]"
   ]
  },
  {
   "cell_type": "code",
   "execution_count": 10,
   "id": "5cd6de57-cade-4a1e-b43a-1ff5425ebcc7",
   "metadata": {},
   "outputs": [
    {
     "name": "stdout",
     "output_type": "stream",
     "text": [
      "<class 'pandas.core.frame.DataFrame'>\n",
      "Int64Index: 188 entries, 2009 to 2021\n",
      "Data columns (total 3 columns):\n",
      " #   Column    Non-Null Count  Dtype  \n",
      "---  ------    --------------  -----  \n",
      " 0   Gender    188 non-null    object \n",
      " 1   Ceremony  188 non-null    object \n",
      " 2   Age       188 non-null    float64\n",
      "dtypes: float64(1), object(2)\n",
      "memory usage: 5.9+ KB\n"
     ]
    }
   ],
   "source": [
    "marriage_byyear.info()"
   ]
  },
  {
   "cell_type": "code",
   "execution_count": 11,
   "id": "c4082825-706c-49e0-9d7c-419e34dba44c",
   "metadata": {},
   "outputs": [
    {
     "data": {
      "text/html": [
       "<div>\n",
       "<style scoped>\n",
       "    .dataframe tbody tr th:only-of-type {\n",
       "        vertical-align: middle;\n",
       "    }\n",
       "\n",
       "    .dataframe tbody tr th {\n",
       "        vertical-align: top;\n",
       "    }\n",
       "\n",
       "    .dataframe thead th {\n",
       "        text-align: right;\n",
       "    }\n",
       "</style>\n",
       "<table border=\"1\" class=\"dataframe\">\n",
       "  <thead>\n",
       "    <tr style=\"text-align: right;\">\n",
       "      <th></th>\n",
       "      <th>Gender</th>\n",
       "      <th>Ceremony</th>\n",
       "      <th>Age</th>\n",
       "    </tr>\n",
       "    <tr>\n",
       "      <th>Year</th>\n",
       "      <th></th>\n",
       "      <th></th>\n",
       "      <th></th>\n",
       "    </tr>\n",
       "  </thead>\n",
       "  <tbody>\n",
       "    <tr>\n",
       "      <th>2009</th>\n",
       "      <td>Average Age of Bride</td>\n",
       "      <td>Other religious denominations</td>\n",
       "      <td>32.3</td>\n",
       "    </tr>\n",
       "    <tr>\n",
       "      <th>2009</th>\n",
       "      <td>Average Age of Bride</td>\n",
       "      <td>Roman Catholic</td>\n",
       "      <td>30.9</td>\n",
       "    </tr>\n",
       "    <tr>\n",
       "      <th>2009</th>\n",
       "      <td>Average Age of Bride</td>\n",
       "      <td>All ceremonies</td>\n",
       "      <td>31.8</td>\n",
       "    </tr>\n",
       "    <tr>\n",
       "      <th>2009</th>\n",
       "      <td>Average Age of Groom</td>\n",
       "      <td>Civil marriages</td>\n",
       "      <td>37.0</td>\n",
       "    </tr>\n",
       "    <tr>\n",
       "      <th>2009</th>\n",
       "      <td>Average Age of Groom</td>\n",
       "      <td>Other religious denominations</td>\n",
       "      <td>35.4</td>\n",
       "    </tr>\n",
       "  </tbody>\n",
       "</table>\n",
       "</div>"
      ],
      "text/plain": [
       "                    Gender                       Ceremony   Age\n",
       "Year                                                           \n",
       "2009  Average Age of Bride  Other religious denominations  32.3\n",
       "2009  Average Age of Bride                 Roman Catholic  30.9\n",
       "2009  Average Age of Bride                 All ceremonies  31.8\n",
       "2009  Average Age of Groom                Civil marriages  37.0\n",
       "2009  Average Age of Groom  Other religious denominations  35.4"
      ]
     },
     "execution_count": 11,
     "metadata": {},
     "output_type": "execute_result"
    }
   ],
   "source": [
    "marriage_byyear.head()"
   ]
  },
  {
   "cell_type": "markdown",
   "id": "e7816392-8e21-414c-8238-0e6ab7efef72",
   "metadata": {},
   "source": [
    "#find categories(unique values) in statistic and ceremony columns"
   ]
  },
  {
   "cell_type": "code",
   "execution_count": 12,
   "id": "4c160e4a-4762-415b-a3d5-40a1610c8e14",
   "metadata": {},
   "outputs": [
    {
     "data": {
      "text/plain": [
       "array(['Average Age of Bride', 'Average Age of Groom'], dtype=object)"
      ]
     },
     "execution_count": 12,
     "metadata": {},
     "output_type": "execute_result"
    }
   ],
   "source": [
    "marriage_byyear.Gender.unique()"
   ]
  },
  {
   "cell_type": "code",
   "execution_count": 13,
   "id": "eddb70e5-4fa6-44c2-a4a3-4468930a5ec4",
   "metadata": {},
   "outputs": [
    {
     "data": {
      "text/plain": [
       "array(['Other religious denominations', 'Roman Catholic',\n",
       "       'All ceremonies', 'Civil marriages', 'Presbyterian',\n",
       "       'Church of Ireland', 'The Spiritualist Union of Ireland',\n",
       "       'The Humanist Association'], dtype=object)"
      ]
     },
     "execution_count": 13,
     "metadata": {},
     "output_type": "execute_result"
    }
   ],
   "source": [
    "marriage_byyear.Ceremony.unique()"
   ]
  },
  {
   "cell_type": "code",
   "execution_count": 14,
   "id": "ea9337c6-3b04-4fea-b29d-17c1d2803b37",
   "metadata": {},
   "outputs": [
    {
     "data": {
      "text/html": [
       "<div>\n",
       "<style scoped>\n",
       "    .dataframe tbody tr th:only-of-type {\n",
       "        vertical-align: middle;\n",
       "    }\n",
       "\n",
       "    .dataframe tbody tr th {\n",
       "        vertical-align: top;\n",
       "    }\n",
       "\n",
       "    .dataframe thead th {\n",
       "        text-align: right;\n",
       "    }\n",
       "</style>\n",
       "<table border=\"1\" class=\"dataframe\">\n",
       "  <thead>\n",
       "    <tr style=\"text-align: right;\">\n",
       "      <th></th>\n",
       "      <th>Age</th>\n",
       "    </tr>\n",
       "  </thead>\n",
       "  <tbody>\n",
       "    <tr>\n",
       "      <th>count</th>\n",
       "      <td>188.000000</td>\n",
       "    </tr>\n",
       "    <tr>\n",
       "      <th>mean</th>\n",
       "      <td>34.771866</td>\n",
       "    </tr>\n",
       "    <tr>\n",
       "      <th>std</th>\n",
       "      <td>2.195161</td>\n",
       "    </tr>\n",
       "    <tr>\n",
       "      <th>min</th>\n",
       "      <td>30.200000</td>\n",
       "    </tr>\n",
       "    <tr>\n",
       "      <th>25%</th>\n",
       "      <td>33.200000</td>\n",
       "    </tr>\n",
       "    <tr>\n",
       "      <th>50%</th>\n",
       "      <td>34.800000</td>\n",
       "    </tr>\n",
       "    <tr>\n",
       "      <th>75%</th>\n",
       "      <td>36.525000</td>\n",
       "    </tr>\n",
       "    <tr>\n",
       "      <th>max</th>\n",
       "      <td>40.581193</td>\n",
       "    </tr>\n",
       "  </tbody>\n",
       "</table>\n",
       "</div>"
      ],
      "text/plain": [
       "              Age\n",
       "count  188.000000\n",
       "mean    34.771866\n",
       "std      2.195161\n",
       "min     30.200000\n",
       "25%     33.200000\n",
       "50%     34.800000\n",
       "75%     36.525000\n",
       "max     40.581193"
      ]
     },
     "execution_count": 14,
     "metadata": {},
     "output_type": "execute_result"
    }
   ],
   "source": [
    "marriage_byyear.describe()"
   ]
  },
  {
   "cell_type": "code",
   "execution_count": 15,
   "id": "9375399e-2ef0-4474-8302-b85479ee6155",
   "metadata": {},
   "outputs": [],
   "source": [
    "marriage_byyear_all = marriage_byyear[marriage_byyear['Ceremony'] == 'All ceremonies']"
   ]
  },
  {
   "cell_type": "code",
   "execution_count": 16,
   "id": "7ee9e643-0a54-4ad1-bfab-fde881940f81",
   "metadata": {},
   "outputs": [],
   "source": [
    "#Split by gender, change values to Female or Male, reset index"
   ]
  },
  {
   "cell_type": "code",
   "execution_count": 17,
   "id": "fd666b60-a773-4966-bfe1-5cba1e2e33ac",
   "metadata": {},
   "outputs": [],
   "source": [
    "Bride_marriage_age = marriage_byyear_all[marriage_byyear_all['Gender'] == 'Average Age of Bride'].reset_index()"
   ]
  },
  {
   "cell_type": "code",
   "execution_count": 18,
   "id": "87377ece-73fd-4d93-bd6e-82285065074f",
   "metadata": {},
   "outputs": [
    {
     "data": {
      "text/html": [
       "<div>\n",
       "<style scoped>\n",
       "    .dataframe tbody tr th:only-of-type {\n",
       "        vertical-align: middle;\n",
       "    }\n",
       "\n",
       "    .dataframe tbody tr th {\n",
       "        vertical-align: top;\n",
       "    }\n",
       "\n",
       "    .dataframe thead th {\n",
       "        text-align: right;\n",
       "    }\n",
       "</style>\n",
       "<table border=\"1\" class=\"dataframe\">\n",
       "  <thead>\n",
       "    <tr style=\"text-align: right;\">\n",
       "      <th></th>\n",
       "      <th>Year</th>\n",
       "      <th>Gender</th>\n",
       "      <th>Ceremony</th>\n",
       "      <th>Age</th>\n",
       "    </tr>\n",
       "  </thead>\n",
       "  <tbody>\n",
       "    <tr>\n",
       "      <th>0</th>\n",
       "      <td>2009</td>\n",
       "      <td>Average Age of Bride</td>\n",
       "      <td>All ceremonies</td>\n",
       "      <td>31.800000</td>\n",
       "    </tr>\n",
       "    <tr>\n",
       "      <th>1</th>\n",
       "      <td>2010</td>\n",
       "      <td>Average Age of Bride</td>\n",
       "      <td>All ceremonies</td>\n",
       "      <td>32.000000</td>\n",
       "    </tr>\n",
       "    <tr>\n",
       "      <th>2</th>\n",
       "      <td>2011</td>\n",
       "      <td>Average Age of Bride</td>\n",
       "      <td>All ceremonies</td>\n",
       "      <td>32.500000</td>\n",
       "    </tr>\n",
       "    <tr>\n",
       "      <th>3</th>\n",
       "      <td>2012</td>\n",
       "      <td>Average Age of Bride</td>\n",
       "      <td>All ceremonies</td>\n",
       "      <td>32.600000</td>\n",
       "    </tr>\n",
       "    <tr>\n",
       "      <th>4</th>\n",
       "      <td>2013</td>\n",
       "      <td>Average Age of Bride</td>\n",
       "      <td>All ceremonies</td>\n",
       "      <td>32.800000</td>\n",
       "    </tr>\n",
       "    <tr>\n",
       "      <th>5</th>\n",
       "      <td>2014</td>\n",
       "      <td>Average Age of Bride</td>\n",
       "      <td>All ceremonies</td>\n",
       "      <td>33.000000</td>\n",
       "    </tr>\n",
       "    <tr>\n",
       "      <th>6</th>\n",
       "      <td>2015</td>\n",
       "      <td>Average Age of Bride</td>\n",
       "      <td>All ceremonies</td>\n",
       "      <td>33.200000</td>\n",
       "    </tr>\n",
       "    <tr>\n",
       "      <th>7</th>\n",
       "      <td>2016</td>\n",
       "      <td>Average Age of Bride</td>\n",
       "      <td>All ceremonies</td>\n",
       "      <td>33.800000</td>\n",
       "    </tr>\n",
       "    <tr>\n",
       "      <th>8</th>\n",
       "      <td>2017</td>\n",
       "      <td>Average Age of Bride</td>\n",
       "      <td>All ceremonies</td>\n",
       "      <td>34.100000</td>\n",
       "    </tr>\n",
       "    <tr>\n",
       "      <th>9</th>\n",
       "      <td>2018</td>\n",
       "      <td>Average Age of Bride</td>\n",
       "      <td>All ceremonies</td>\n",
       "      <td>34.400000</td>\n",
       "    </tr>\n",
       "    <tr>\n",
       "      <th>10</th>\n",
       "      <td>2019</td>\n",
       "      <td>Average Age of Bride</td>\n",
       "      <td>All ceremonies</td>\n",
       "      <td>34.800000</td>\n",
       "    </tr>\n",
       "    <tr>\n",
       "      <th>11</th>\n",
       "      <td>2020</td>\n",
       "      <td>Average Age of Bride</td>\n",
       "      <td>All ceremonies</td>\n",
       "      <td>35.677389</td>\n",
       "    </tr>\n",
       "    <tr>\n",
       "      <th>12</th>\n",
       "      <td>2021</td>\n",
       "      <td>Average Age of Bride</td>\n",
       "      <td>All ceremonies</td>\n",
       "      <td>35.400000</td>\n",
       "    </tr>\n",
       "  </tbody>\n",
       "</table>\n",
       "</div>"
      ],
      "text/plain": [
       "    Year                Gender        Ceremony        Age\n",
       "0   2009  Average Age of Bride  All ceremonies  31.800000\n",
       "1   2010  Average Age of Bride  All ceremonies  32.000000\n",
       "2   2011  Average Age of Bride  All ceremonies  32.500000\n",
       "3   2012  Average Age of Bride  All ceremonies  32.600000\n",
       "4   2013  Average Age of Bride  All ceremonies  32.800000\n",
       "5   2014  Average Age of Bride  All ceremonies  33.000000\n",
       "6   2015  Average Age of Bride  All ceremonies  33.200000\n",
       "7   2016  Average Age of Bride  All ceremonies  33.800000\n",
       "8   2017  Average Age of Bride  All ceremonies  34.100000\n",
       "9   2018  Average Age of Bride  All ceremonies  34.400000\n",
       "10  2019  Average Age of Bride  All ceremonies  34.800000\n",
       "11  2020  Average Age of Bride  All ceremonies  35.677389\n",
       "12  2021  Average Age of Bride  All ceremonies  35.400000"
      ]
     },
     "execution_count": 18,
     "metadata": {},
     "output_type": "execute_result"
    }
   ],
   "source": [
    "Bride_marriage_age"
   ]
  },
  {
   "cell_type": "code",
   "execution_count": 19,
   "id": "29168cf9-0cf8-4a1a-a31b-d103c4fde36e",
   "metadata": {},
   "outputs": [],
   "source": [
    "F_marriage_age = Bride_marriage_age.assign(Gender=\"Female\")"
   ]
  },
  {
   "cell_type": "code",
   "execution_count": 20,
   "id": "193ce044-d515-4201-b04b-f9a757e9029c",
   "metadata": {},
   "outputs": [
    {
     "data": {
      "text/html": [
       "<div>\n",
       "<style scoped>\n",
       "    .dataframe tbody tr th:only-of-type {\n",
       "        vertical-align: middle;\n",
       "    }\n",
       "\n",
       "    .dataframe tbody tr th {\n",
       "        vertical-align: top;\n",
       "    }\n",
       "\n",
       "    .dataframe thead th {\n",
       "        text-align: right;\n",
       "    }\n",
       "</style>\n",
       "<table border=\"1\" class=\"dataframe\">\n",
       "  <thead>\n",
       "    <tr style=\"text-align: right;\">\n",
       "      <th></th>\n",
       "      <th>Year</th>\n",
       "      <th>Gender</th>\n",
       "      <th>Ceremony</th>\n",
       "      <th>Age</th>\n",
       "    </tr>\n",
       "  </thead>\n",
       "  <tbody>\n",
       "    <tr>\n",
       "      <th>0</th>\n",
       "      <td>2009</td>\n",
       "      <td>Female</td>\n",
       "      <td>All ceremonies</td>\n",
       "      <td>31.800000</td>\n",
       "    </tr>\n",
       "    <tr>\n",
       "      <th>1</th>\n",
       "      <td>2010</td>\n",
       "      <td>Female</td>\n",
       "      <td>All ceremonies</td>\n",
       "      <td>32.000000</td>\n",
       "    </tr>\n",
       "    <tr>\n",
       "      <th>2</th>\n",
       "      <td>2011</td>\n",
       "      <td>Female</td>\n",
       "      <td>All ceremonies</td>\n",
       "      <td>32.500000</td>\n",
       "    </tr>\n",
       "    <tr>\n",
       "      <th>3</th>\n",
       "      <td>2012</td>\n",
       "      <td>Female</td>\n",
       "      <td>All ceremonies</td>\n",
       "      <td>32.600000</td>\n",
       "    </tr>\n",
       "    <tr>\n",
       "      <th>4</th>\n",
       "      <td>2013</td>\n",
       "      <td>Female</td>\n",
       "      <td>All ceremonies</td>\n",
       "      <td>32.800000</td>\n",
       "    </tr>\n",
       "    <tr>\n",
       "      <th>5</th>\n",
       "      <td>2014</td>\n",
       "      <td>Female</td>\n",
       "      <td>All ceremonies</td>\n",
       "      <td>33.000000</td>\n",
       "    </tr>\n",
       "    <tr>\n",
       "      <th>6</th>\n",
       "      <td>2015</td>\n",
       "      <td>Female</td>\n",
       "      <td>All ceremonies</td>\n",
       "      <td>33.200000</td>\n",
       "    </tr>\n",
       "    <tr>\n",
       "      <th>7</th>\n",
       "      <td>2016</td>\n",
       "      <td>Female</td>\n",
       "      <td>All ceremonies</td>\n",
       "      <td>33.800000</td>\n",
       "    </tr>\n",
       "    <tr>\n",
       "      <th>8</th>\n",
       "      <td>2017</td>\n",
       "      <td>Female</td>\n",
       "      <td>All ceremonies</td>\n",
       "      <td>34.100000</td>\n",
       "    </tr>\n",
       "    <tr>\n",
       "      <th>9</th>\n",
       "      <td>2018</td>\n",
       "      <td>Female</td>\n",
       "      <td>All ceremonies</td>\n",
       "      <td>34.400000</td>\n",
       "    </tr>\n",
       "    <tr>\n",
       "      <th>10</th>\n",
       "      <td>2019</td>\n",
       "      <td>Female</td>\n",
       "      <td>All ceremonies</td>\n",
       "      <td>34.800000</td>\n",
       "    </tr>\n",
       "    <tr>\n",
       "      <th>11</th>\n",
       "      <td>2020</td>\n",
       "      <td>Female</td>\n",
       "      <td>All ceremonies</td>\n",
       "      <td>35.677389</td>\n",
       "    </tr>\n",
       "    <tr>\n",
       "      <th>12</th>\n",
       "      <td>2021</td>\n",
       "      <td>Female</td>\n",
       "      <td>All ceremonies</td>\n",
       "      <td>35.400000</td>\n",
       "    </tr>\n",
       "  </tbody>\n",
       "</table>\n",
       "</div>"
      ],
      "text/plain": [
       "    Year  Gender        Ceremony        Age\n",
       "0   2009  Female  All ceremonies  31.800000\n",
       "1   2010  Female  All ceremonies  32.000000\n",
       "2   2011  Female  All ceremonies  32.500000\n",
       "3   2012  Female  All ceremonies  32.600000\n",
       "4   2013  Female  All ceremonies  32.800000\n",
       "5   2014  Female  All ceremonies  33.000000\n",
       "6   2015  Female  All ceremonies  33.200000\n",
       "7   2016  Female  All ceremonies  33.800000\n",
       "8   2017  Female  All ceremonies  34.100000\n",
       "9   2018  Female  All ceremonies  34.400000\n",
       "10  2019  Female  All ceremonies  34.800000\n",
       "11  2020  Female  All ceremonies  35.677389\n",
       "12  2021  Female  All ceremonies  35.400000"
      ]
     },
     "execution_count": 20,
     "metadata": {},
     "output_type": "execute_result"
    }
   ],
   "source": [
    "F_marriage_age"
   ]
  },
  {
   "cell_type": "code",
   "execution_count": 21,
   "id": "d01c0252-d8a6-4bc3-8a75-caa6af26a893",
   "metadata": {},
   "outputs": [],
   "source": [
    "Groom_marriage_age= marriage_byyear_all[marriage_byyear_all['Gender'] == 'Average Age of Groom'].reset_index()"
   ]
  },
  {
   "cell_type": "code",
   "execution_count": 22,
   "id": "86f8be52-d139-4355-bf4c-d706a120f676",
   "metadata": {},
   "outputs": [],
   "source": [
    "M_marriage_age = Groom_marriage_age.assign(Gender=\"Male\")"
   ]
  },
  {
   "cell_type": "code",
   "execution_count": 23,
   "id": "910fc8c2-1f7c-4d3b-ab60-72627ae7cc46",
   "metadata": {},
   "outputs": [
    {
     "data": {
      "text/html": [
       "<div>\n",
       "<style scoped>\n",
       "    .dataframe tbody tr th:only-of-type {\n",
       "        vertical-align: middle;\n",
       "    }\n",
       "\n",
       "    .dataframe tbody tr th {\n",
       "        vertical-align: top;\n",
       "    }\n",
       "\n",
       "    .dataframe thead th {\n",
       "        text-align: right;\n",
       "    }\n",
       "</style>\n",
       "<table border=\"1\" class=\"dataframe\">\n",
       "  <thead>\n",
       "    <tr style=\"text-align: right;\">\n",
       "      <th></th>\n",
       "      <th>Year</th>\n",
       "      <th>Gender</th>\n",
       "      <th>Ceremony</th>\n",
       "      <th>Age</th>\n",
       "    </tr>\n",
       "  </thead>\n",
       "  <tbody>\n",
       "    <tr>\n",
       "      <th>0</th>\n",
       "      <td>2009</td>\n",
       "      <td>Male</td>\n",
       "      <td>All ceremonies</td>\n",
       "      <td>34.000000</td>\n",
       "    </tr>\n",
       "    <tr>\n",
       "      <th>1</th>\n",
       "      <td>2010</td>\n",
       "      <td>Male</td>\n",
       "      <td>All ceremonies</td>\n",
       "      <td>34.100000</td>\n",
       "    </tr>\n",
       "    <tr>\n",
       "      <th>2</th>\n",
       "      <td>2011</td>\n",
       "      <td>Male</td>\n",
       "      <td>All ceremonies</td>\n",
       "      <td>34.600000</td>\n",
       "    </tr>\n",
       "    <tr>\n",
       "      <th>3</th>\n",
       "      <td>2012</td>\n",
       "      <td>Male</td>\n",
       "      <td>All ceremonies</td>\n",
       "      <td>34.700000</td>\n",
       "    </tr>\n",
       "    <tr>\n",
       "      <th>4</th>\n",
       "      <td>2013</td>\n",
       "      <td>Male</td>\n",
       "      <td>All ceremonies</td>\n",
       "      <td>34.900000</td>\n",
       "    </tr>\n",
       "    <tr>\n",
       "      <th>5</th>\n",
       "      <td>2014</td>\n",
       "      <td>Male</td>\n",
       "      <td>All ceremonies</td>\n",
       "      <td>35.000000</td>\n",
       "    </tr>\n",
       "    <tr>\n",
       "      <th>6</th>\n",
       "      <td>2015</td>\n",
       "      <td>Male</td>\n",
       "      <td>All ceremonies</td>\n",
       "      <td>35.300000</td>\n",
       "    </tr>\n",
       "    <tr>\n",
       "      <th>7</th>\n",
       "      <td>2016</td>\n",
       "      <td>Male</td>\n",
       "      <td>All ceremonies</td>\n",
       "      <td>35.700000</td>\n",
       "    </tr>\n",
       "    <tr>\n",
       "      <th>8</th>\n",
       "      <td>2017</td>\n",
       "      <td>Male</td>\n",
       "      <td>All ceremonies</td>\n",
       "      <td>36.100000</td>\n",
       "    </tr>\n",
       "    <tr>\n",
       "      <th>9</th>\n",
       "      <td>2018</td>\n",
       "      <td>Male</td>\n",
       "      <td>All ceremonies</td>\n",
       "      <td>36.400000</td>\n",
       "    </tr>\n",
       "    <tr>\n",
       "      <th>10</th>\n",
       "      <td>2019</td>\n",
       "      <td>Male</td>\n",
       "      <td>All ceremonies</td>\n",
       "      <td>36.800000</td>\n",
       "    </tr>\n",
       "    <tr>\n",
       "      <th>11</th>\n",
       "      <td>2020</td>\n",
       "      <td>Male</td>\n",
       "      <td>All ceremonies</td>\n",
       "      <td>37.777423</td>\n",
       "    </tr>\n",
       "    <tr>\n",
       "      <th>12</th>\n",
       "      <td>2021</td>\n",
       "      <td>Male</td>\n",
       "      <td>All ceremonies</td>\n",
       "      <td>37.400000</td>\n",
       "    </tr>\n",
       "  </tbody>\n",
       "</table>\n",
       "</div>"
      ],
      "text/plain": [
       "    Year Gender        Ceremony        Age\n",
       "0   2009   Male  All ceremonies  34.000000\n",
       "1   2010   Male  All ceremonies  34.100000\n",
       "2   2011   Male  All ceremonies  34.600000\n",
       "3   2012   Male  All ceremonies  34.700000\n",
       "4   2013   Male  All ceremonies  34.900000\n",
       "5   2014   Male  All ceremonies  35.000000\n",
       "6   2015   Male  All ceremonies  35.300000\n",
       "7   2016   Male  All ceremonies  35.700000\n",
       "8   2017   Male  All ceremonies  36.100000\n",
       "9   2018   Male  All ceremonies  36.400000\n",
       "10  2019   Male  All ceremonies  36.800000\n",
       "11  2020   Male  All ceremonies  37.777423\n",
       "12  2021   Male  All ceremonies  37.400000"
      ]
     },
     "execution_count": 23,
     "metadata": {},
     "output_type": "execute_result"
    }
   ],
   "source": [
    "M_marriage_age"
   ]
  },
  {
   "cell_type": "markdown",
   "id": "6389837c-391c-4b61-8f36-9f799e1fe6d1",
   "metadata": {},
   "source": [
    "# Cleaning Education data"
   ]
  },
  {
   "cell_type": "code",
   "execution_count": 24,
   "id": "9f5c3fbd-ba4a-4ae1-a8ac-d6472b6a0075",
   "metadata": {},
   "outputs": [
    {
     "name": "stdout",
     "output_type": "stream",
     "text": [
      "<class 'pandas.core.frame.DataFrame'>\n",
      "RangeIndex: 3024 entries, 0 to 3023\n",
      "Data columns (total 12 columns):\n",
      " #   Column           Non-Null Count  Dtype \n",
      "---  ------           --------------  ----- \n",
      " 0   STATISTIC        3024 non-null   object\n",
      " 1   STATISTIC Label  3024 non-null   object\n",
      " 2   TLIST(Q1)        3024 non-null   object\n",
      " 3   Quarter          3024 non-null   object\n",
      " 4   C02076V02508     3024 non-null   int64 \n",
      " 5   Age Group        3024 non-null   object\n",
      " 6   C02199V02655     3024 non-null   object\n",
      " 7   Sex              3024 non-null   object\n",
      " 8   C02757V03327     3024 non-null   int64 \n",
      " 9   Education Level  3024 non-null   object\n",
      " 10  UNIT             3024 non-null   object\n",
      " 11  VALUE            3024 non-null   int64 \n",
      "dtypes: int64(3), object(9)\n",
      "memory usage: 283.6+ KB\n"
     ]
    }
   ],
   "source": [
    "education.info()"
   ]
  },
  {
   "cell_type": "code",
   "execution_count": 25,
   "id": "2a1e940d-d3e1-4f98-afe5-cfe1426774fe",
   "metadata": {},
   "outputs": [
    {
     "data": {
      "text/html": [
       "<div>\n",
       "<style scoped>\n",
       "    .dataframe tbody tr th:only-of-type {\n",
       "        vertical-align: middle;\n",
       "    }\n",
       "\n",
       "    .dataframe tbody tr th {\n",
       "        vertical-align: top;\n",
       "    }\n",
       "\n",
       "    .dataframe thead th {\n",
       "        text-align: right;\n",
       "    }\n",
       "</style>\n",
       "<table border=\"1\" class=\"dataframe\">\n",
       "  <thead>\n",
       "    <tr style=\"text-align: right;\">\n",
       "      <th></th>\n",
       "      <th>STATISTIC</th>\n",
       "      <th>STATISTIC Label</th>\n",
       "      <th>TLIST(Q1)</th>\n",
       "      <th>Quarter</th>\n",
       "      <th>C02076V02508</th>\n",
       "      <th>Age Group</th>\n",
       "      <th>C02199V02655</th>\n",
       "      <th>Sex</th>\n",
       "      <th>C02757V03327</th>\n",
       "      <th>Education Level</th>\n",
       "      <th>UNIT</th>\n",
       "      <th>VALUE</th>\n",
       "    </tr>\n",
       "  </thead>\n",
       "  <tbody>\n",
       "    <tr>\n",
       "      <th>0</th>\n",
       "      <td>EDQ01</td>\n",
       "      <td>Persons Aged 15-64</td>\n",
       "      <td>2009Q2</td>\n",
       "      <td>2009Q2</td>\n",
       "      <td>300</td>\n",
       "      <td>15 - 19 years</td>\n",
       "      <td>-</td>\n",
       "      <td>Both sexes</td>\n",
       "      <td>2</td>\n",
       "      <td>Primary</td>\n",
       "      <td>%</td>\n",
       "      <td>2</td>\n",
       "    </tr>\n",
       "    <tr>\n",
       "      <th>1</th>\n",
       "      <td>EDQ01</td>\n",
       "      <td>Persons Aged 15-64</td>\n",
       "      <td>2009Q2</td>\n",
       "      <td>2009Q2</td>\n",
       "      <td>300</td>\n",
       "      <td>15 - 19 years</td>\n",
       "      <td>-</td>\n",
       "      <td>Both sexes</td>\n",
       "      <td>4</td>\n",
       "      <td>Lower secondary</td>\n",
       "      <td>%</td>\n",
       "      <td>8</td>\n",
       "    </tr>\n",
       "    <tr>\n",
       "      <th>2</th>\n",
       "      <td>EDQ01</td>\n",
       "      <td>Persons Aged 15-64</td>\n",
       "      <td>2009Q2</td>\n",
       "      <td>2009Q2</td>\n",
       "      <td>300</td>\n",
       "      <td>15 - 19 years</td>\n",
       "      <td>-</td>\n",
       "      <td>Both sexes</td>\n",
       "      <td>5</td>\n",
       "      <td>Upper secondary</td>\n",
       "      <td>%</td>\n",
       "      <td>52</td>\n",
       "    </tr>\n",
       "    <tr>\n",
       "      <th>3</th>\n",
       "      <td>EDQ01</td>\n",
       "      <td>Persons Aged 15-64</td>\n",
       "      <td>2009Q2</td>\n",
       "      <td>2009Q2</td>\n",
       "      <td>300</td>\n",
       "      <td>15 - 19 years</td>\n",
       "      <td>-</td>\n",
       "      <td>Both sexes</td>\n",
       "      <td>65</td>\n",
       "      <td>Post leaving cert</td>\n",
       "      <td>%</td>\n",
       "      <td>11</td>\n",
       "    </tr>\n",
       "    <tr>\n",
       "      <th>4</th>\n",
       "      <td>EDQ01</td>\n",
       "      <td>Persons Aged 15-64</td>\n",
       "      <td>2009Q2</td>\n",
       "      <td>2009Q2</td>\n",
       "      <td>300</td>\n",
       "      <td>15 - 19 years</td>\n",
       "      <td>-</td>\n",
       "      <td>Both sexes</td>\n",
       "      <td>-4</td>\n",
       "      <td>Third level</td>\n",
       "      <td>%</td>\n",
       "      <td>27</td>\n",
       "    </tr>\n",
       "  </tbody>\n",
       "</table>\n",
       "</div>"
      ],
      "text/plain": [
       "  STATISTIC     STATISTIC Label TLIST(Q1) Quarter  C02076V02508  \\\n",
       "0     EDQ01  Persons Aged 15-64    2009Q2  2009Q2           300   \n",
       "1     EDQ01  Persons Aged 15-64    2009Q2  2009Q2           300   \n",
       "2     EDQ01  Persons Aged 15-64    2009Q2  2009Q2           300   \n",
       "3     EDQ01  Persons Aged 15-64    2009Q2  2009Q2           300   \n",
       "4     EDQ01  Persons Aged 15-64    2009Q2  2009Q2           300   \n",
       "\n",
       "       Age Group C02199V02655         Sex  C02757V03327    Education Level  \\\n",
       "0  15 - 19 years            -  Both sexes             2            Primary   \n",
       "1  15 - 19 years            -  Both sexes             4    Lower secondary   \n",
       "2  15 - 19 years            -  Both sexes             5    Upper secondary   \n",
       "3  15 - 19 years            -  Both sexes            65  Post leaving cert   \n",
       "4  15 - 19 years            -  Both sexes            -4        Third level   \n",
       "\n",
       "  UNIT  VALUE  \n",
       "0    %      2  \n",
       "1    %      8  \n",
       "2    %     52  \n",
       "3    %     11  \n",
       "4    %     27  "
      ]
     },
     "execution_count": 25,
     "metadata": {},
     "output_type": "execute_result"
    }
   ],
   "source": [
    "education.head()"
   ]
  },
  {
   "cell_type": "markdown",
   "id": "56dab4a7-7d81-41fd-8cca-8a63e87439cf",
   "metadata": {},
   "source": [
    "#Add Year column , drop extra columns, set index as year"
   ]
  },
  {
   "cell_type": "code",
   "execution_count": 26,
   "id": "214c23ab-06cc-4156-8b64-18986b97e419",
   "metadata": {},
   "outputs": [],
   "source": [
    "education['Year'] = education['Quarter'].str[:4].astype(int)"
   ]
  },
  {
   "cell_type": "code",
   "execution_count": 27,
   "id": "921f2a51-99cb-4dbc-b809-070f952d0869",
   "metadata": {},
   "outputs": [
    {
     "data": {
      "text/html": [
       "<div>\n",
       "<style scoped>\n",
       "    .dataframe tbody tr th:only-of-type {\n",
       "        vertical-align: middle;\n",
       "    }\n",
       "\n",
       "    .dataframe tbody tr th {\n",
       "        vertical-align: top;\n",
       "    }\n",
       "\n",
       "    .dataframe thead th {\n",
       "        text-align: right;\n",
       "    }\n",
       "</style>\n",
       "<table border=\"1\" class=\"dataframe\">\n",
       "  <thead>\n",
       "    <tr style=\"text-align: right;\">\n",
       "      <th></th>\n",
       "      <th>STATISTIC</th>\n",
       "      <th>STATISTIC Label</th>\n",
       "      <th>TLIST(Q1)</th>\n",
       "      <th>Quarter</th>\n",
       "      <th>C02076V02508</th>\n",
       "      <th>Age Group</th>\n",
       "      <th>C02199V02655</th>\n",
       "      <th>Sex</th>\n",
       "      <th>C02757V03327</th>\n",
       "      <th>Education Level</th>\n",
       "      <th>UNIT</th>\n",
       "      <th>VALUE</th>\n",
       "      <th>Year</th>\n",
       "    </tr>\n",
       "  </thead>\n",
       "  <tbody>\n",
       "    <tr>\n",
       "      <th>0</th>\n",
       "      <td>EDQ01</td>\n",
       "      <td>Persons Aged 15-64</td>\n",
       "      <td>2009Q2</td>\n",
       "      <td>2009Q2</td>\n",
       "      <td>300</td>\n",
       "      <td>15 - 19 years</td>\n",
       "      <td>-</td>\n",
       "      <td>Both sexes</td>\n",
       "      <td>2</td>\n",
       "      <td>Primary</td>\n",
       "      <td>%</td>\n",
       "      <td>2</td>\n",
       "      <td>2009</td>\n",
       "    </tr>\n",
       "    <tr>\n",
       "      <th>1</th>\n",
       "      <td>EDQ01</td>\n",
       "      <td>Persons Aged 15-64</td>\n",
       "      <td>2009Q2</td>\n",
       "      <td>2009Q2</td>\n",
       "      <td>300</td>\n",
       "      <td>15 - 19 years</td>\n",
       "      <td>-</td>\n",
       "      <td>Both sexes</td>\n",
       "      <td>4</td>\n",
       "      <td>Lower secondary</td>\n",
       "      <td>%</td>\n",
       "      <td>8</td>\n",
       "      <td>2009</td>\n",
       "    </tr>\n",
       "    <tr>\n",
       "      <th>2</th>\n",
       "      <td>EDQ01</td>\n",
       "      <td>Persons Aged 15-64</td>\n",
       "      <td>2009Q2</td>\n",
       "      <td>2009Q2</td>\n",
       "      <td>300</td>\n",
       "      <td>15 - 19 years</td>\n",
       "      <td>-</td>\n",
       "      <td>Both sexes</td>\n",
       "      <td>5</td>\n",
       "      <td>Upper secondary</td>\n",
       "      <td>%</td>\n",
       "      <td>52</td>\n",
       "      <td>2009</td>\n",
       "    </tr>\n",
       "    <tr>\n",
       "      <th>3</th>\n",
       "      <td>EDQ01</td>\n",
       "      <td>Persons Aged 15-64</td>\n",
       "      <td>2009Q2</td>\n",
       "      <td>2009Q2</td>\n",
       "      <td>300</td>\n",
       "      <td>15 - 19 years</td>\n",
       "      <td>-</td>\n",
       "      <td>Both sexes</td>\n",
       "      <td>65</td>\n",
       "      <td>Post leaving cert</td>\n",
       "      <td>%</td>\n",
       "      <td>11</td>\n",
       "      <td>2009</td>\n",
       "    </tr>\n",
       "    <tr>\n",
       "      <th>4</th>\n",
       "      <td>EDQ01</td>\n",
       "      <td>Persons Aged 15-64</td>\n",
       "      <td>2009Q2</td>\n",
       "      <td>2009Q2</td>\n",
       "      <td>300</td>\n",
       "      <td>15 - 19 years</td>\n",
       "      <td>-</td>\n",
       "      <td>Both sexes</td>\n",
       "      <td>-4</td>\n",
       "      <td>Third level</td>\n",
       "      <td>%</td>\n",
       "      <td>27</td>\n",
       "      <td>2009</td>\n",
       "    </tr>\n",
       "  </tbody>\n",
       "</table>\n",
       "</div>"
      ],
      "text/plain": [
       "  STATISTIC     STATISTIC Label TLIST(Q1) Quarter  C02076V02508  \\\n",
       "0     EDQ01  Persons Aged 15-64    2009Q2  2009Q2           300   \n",
       "1     EDQ01  Persons Aged 15-64    2009Q2  2009Q2           300   \n",
       "2     EDQ01  Persons Aged 15-64    2009Q2  2009Q2           300   \n",
       "3     EDQ01  Persons Aged 15-64    2009Q2  2009Q2           300   \n",
       "4     EDQ01  Persons Aged 15-64    2009Q2  2009Q2           300   \n",
       "\n",
       "       Age Group C02199V02655         Sex  C02757V03327    Education Level  \\\n",
       "0  15 - 19 years            -  Both sexes             2            Primary   \n",
       "1  15 - 19 years            -  Both sexes             4    Lower secondary   \n",
       "2  15 - 19 years            -  Both sexes             5    Upper secondary   \n",
       "3  15 - 19 years            -  Both sexes            65  Post leaving cert   \n",
       "4  15 - 19 years            -  Both sexes            -4        Third level   \n",
       "\n",
       "  UNIT  VALUE  Year  \n",
       "0    %      2  2009  \n",
       "1    %      8  2009  \n",
       "2    %     52  2009  \n",
       "3    %     11  2009  \n",
       "4    %     27  2009  "
      ]
     },
     "execution_count": 27,
     "metadata": {},
     "output_type": "execute_result"
    }
   ],
   "source": [
    "education.head()"
   ]
  },
  {
   "cell_type": "code",
   "execution_count": 28,
   "id": "44b5a5e4-a1c2-43e9-8d9a-c1e7cd865d79",
   "metadata": {},
   "outputs": [],
   "source": [
    "ed_col_list = ['Year','Age Group','Sex','Education Level','VALUE']"
   ]
  },
  {
   "cell_type": "code",
   "execution_count": 29,
   "id": "a7cd5994-93cf-4a57-b451-b9d446e72ea1",
   "metadata": {},
   "outputs": [],
   "source": [
    "education_data = education[ed_col_list].set_index('Year').sort_index().rename({'Age Group':'Age_Group','Education Level':'Educ_level','VALUE':'%Value'},axis=1)"
   ]
  },
  {
   "cell_type": "code",
   "execution_count": 30,
   "id": "702b931b-495b-4b69-91fc-757966a805c8",
   "metadata": {},
   "outputs": [
    {
     "data": {
      "text/html": [
       "<div>\n",
       "<style scoped>\n",
       "    .dataframe tbody tr th:only-of-type {\n",
       "        vertical-align: middle;\n",
       "    }\n",
       "\n",
       "    .dataframe tbody tr th {\n",
       "        vertical-align: top;\n",
       "    }\n",
       "\n",
       "    .dataframe thead th {\n",
       "        text-align: right;\n",
       "    }\n",
       "</style>\n",
       "<table border=\"1\" class=\"dataframe\">\n",
       "  <thead>\n",
       "    <tr style=\"text-align: right;\">\n",
       "      <th></th>\n",
       "      <th>Age_Group</th>\n",
       "      <th>Sex</th>\n",
       "      <th>Educ_level</th>\n",
       "      <th>%Value</th>\n",
       "    </tr>\n",
       "    <tr>\n",
       "      <th>Year</th>\n",
       "      <th></th>\n",
       "      <th></th>\n",
       "      <th></th>\n",
       "      <th></th>\n",
       "    </tr>\n",
       "  </thead>\n",
       "  <tbody>\n",
       "    <tr>\n",
       "      <th>2009</th>\n",
       "      <td>15 - 19 years</td>\n",
       "      <td>Both sexes</td>\n",
       "      <td>Primary</td>\n",
       "      <td>2</td>\n",
       "    </tr>\n",
       "    <tr>\n",
       "      <th>2009</th>\n",
       "      <td>15 - 19 years</td>\n",
       "      <td>Both sexes</td>\n",
       "      <td>Lower secondary</td>\n",
       "      <td>8</td>\n",
       "    </tr>\n",
       "    <tr>\n",
       "      <th>2009</th>\n",
       "      <td>15 - 19 years</td>\n",
       "      <td>Both sexes</td>\n",
       "      <td>Upper secondary</td>\n",
       "      <td>52</td>\n",
       "    </tr>\n",
       "    <tr>\n",
       "      <th>2009</th>\n",
       "      <td>15 - 19 years</td>\n",
       "      <td>Both sexes</td>\n",
       "      <td>Post leaving cert</td>\n",
       "      <td>11</td>\n",
       "    </tr>\n",
       "    <tr>\n",
       "      <th>2009</th>\n",
       "      <td>15 - 19 years</td>\n",
       "      <td>Both sexes</td>\n",
       "      <td>Third level</td>\n",
       "      <td>27</td>\n",
       "    </tr>\n",
       "    <tr>\n",
       "      <th>...</th>\n",
       "      <td>...</td>\n",
       "      <td>...</td>\n",
       "      <td>...</td>\n",
       "      <td>...</td>\n",
       "    </tr>\n",
       "    <tr>\n",
       "      <th>2022</th>\n",
       "      <td>60 - 64 years</td>\n",
       "      <td>Female</td>\n",
       "      <td>Third level</td>\n",
       "      <td>37</td>\n",
       "    </tr>\n",
       "    <tr>\n",
       "      <th>2022</th>\n",
       "      <td>60 - 64 years</td>\n",
       "      <td>Female</td>\n",
       "      <td>Higher certificate</td>\n",
       "      <td>4</td>\n",
       "    </tr>\n",
       "    <tr>\n",
       "      <th>2022</th>\n",
       "      <td>60 - 64 years</td>\n",
       "      <td>Female</td>\n",
       "      <td>Ordinary bachelor degree/professional qualific...</td>\n",
       "      <td>11</td>\n",
       "    </tr>\n",
       "    <tr>\n",
       "      <th>2022</th>\n",
       "      <td>60 - 64 years</td>\n",
       "      <td>Female</td>\n",
       "      <td>Honours bachelor degree/professional qualifica...</td>\n",
       "      <td>14</td>\n",
       "    </tr>\n",
       "    <tr>\n",
       "      <th>2022</th>\n",
       "      <td>60 - 64 years</td>\n",
       "      <td>Female</td>\n",
       "      <td>Postgraduate diploma/degree or Doctorate (Ph.D.)</td>\n",
       "      <td>8</td>\n",
       "    </tr>\n",
       "  </tbody>\n",
       "</table>\n",
       "<p>3024 rows × 4 columns</p>\n",
       "</div>"
      ],
      "text/plain": [
       "          Age_Group         Sex  \\\n",
       "Year                              \n",
       "2009  15 - 19 years  Both sexes   \n",
       "2009  15 - 19 years  Both sexes   \n",
       "2009  15 - 19 years  Both sexes   \n",
       "2009  15 - 19 years  Both sexes   \n",
       "2009  15 - 19 years  Both sexes   \n",
       "...             ...         ...   \n",
       "2022  60 - 64 years      Female   \n",
       "2022  60 - 64 years      Female   \n",
       "2022  60 - 64 years      Female   \n",
       "2022  60 - 64 years      Female   \n",
       "2022  60 - 64 years      Female   \n",
       "\n",
       "                                             Educ_level  %Value  \n",
       "Year                                                             \n",
       "2009                                            Primary       2  \n",
       "2009                                    Lower secondary       8  \n",
       "2009                                    Upper secondary      52  \n",
       "2009                                  Post leaving cert      11  \n",
       "2009                                        Third level      27  \n",
       "...                                                 ...     ...  \n",
       "2022                                        Third level      37  \n",
       "2022                                 Higher certificate       4  \n",
       "2022  Ordinary bachelor degree/professional qualific...      11  \n",
       "2022  Honours bachelor degree/professional qualifica...      14  \n",
       "2022   Postgraduate diploma/degree or Doctorate (Ph.D.)       8  \n",
       "\n",
       "[3024 rows x 4 columns]"
      ]
     },
     "execution_count": 30,
     "metadata": {},
     "output_type": "execute_result"
    }
   ],
   "source": [
    "education_data"
   ]
  },
  {
   "cell_type": "markdown",
   "id": "604ff856-9372-4e73-8c34-4fc82635d590",
   "metadata": {},
   "source": [
    "#find categories(unique values) in Age_Group, Sex and Educ_level columns"
   ]
  },
  {
   "cell_type": "code",
   "execution_count": 31,
   "id": "ac9c0070-6af1-4d3e-95e3-dc6dffa6af2e",
   "metadata": {},
   "outputs": [
    {
     "data": {
      "text/plain": [
       "array(['15 - 19 years', '15 - 64 years', '20 - 24 years', '25 - 34 years',\n",
       "       '35 - 44 years', '45 - 54 years', '55 - 59 years', '60 - 64 years'],\n",
       "      dtype=object)"
      ]
     },
     "execution_count": 31,
     "metadata": {},
     "output_type": "execute_result"
    }
   ],
   "source": [
    "education_data.Age_Group.unique()"
   ]
  },
  {
   "cell_type": "code",
   "execution_count": 32,
   "id": "bf9e2b60-cfcf-4826-a666-5ec62992558b",
   "metadata": {},
   "outputs": [
    {
     "data": {
      "text/plain": [
       "array(['Both sexes', 'Male', 'Female'], dtype=object)"
      ]
     },
     "execution_count": 32,
     "metadata": {},
     "output_type": "execute_result"
    }
   ],
   "source": [
    "education_data.Sex.unique()"
   ]
  },
  {
   "cell_type": "code",
   "execution_count": 33,
   "id": "b2fe2116-9027-4670-a828-6d724f30a24f",
   "metadata": {},
   "outputs": [
    {
     "data": {
      "text/plain": [
       "array(['Primary', 'Lower secondary', 'Upper secondary',\n",
       "       'Post leaving cert', 'Third level', 'Higher certificate',\n",
       "       'Ordinary bachelor degree/professional qualification or both',\n",
       "       'Honours bachelor degree/professional qualification or both',\n",
       "       'Postgraduate diploma/degree or Doctorate (Ph.D.)'], dtype=object)"
      ]
     },
     "execution_count": 33,
     "metadata": {},
     "output_type": "execute_result"
    }
   ],
   "source": [
    "education_data.Educ_level.unique()"
   ]
  },
  {
   "cell_type": "markdown",
   "id": "97ddb41a-fb0d-4c99-96f5-07ad7cb98227",
   "metadata": {
    "tags": []
   },
   "source": [
    "#Check Values for a single Year"
   ]
  },
  {
   "cell_type": "code",
   "execution_count": 34,
   "id": "4b606d4a-ed7b-43d2-bf2f-fcb5e993348b",
   "metadata": {},
   "outputs": [],
   "source": [
    "ed2009= education_data.loc['2009']"
   ]
  },
  {
   "cell_type": "code",
   "execution_count": 35,
   "id": "e715ce0e-3046-44b8-a4db-a93c26edc85c",
   "metadata": {},
   "outputs": [
    {
     "data": {
      "text/html": [
       "<div>\n",
       "<style scoped>\n",
       "    .dataframe tbody tr th:only-of-type {\n",
       "        vertical-align: middle;\n",
       "    }\n",
       "\n",
       "    .dataframe tbody tr th {\n",
       "        vertical-align: top;\n",
       "    }\n",
       "\n",
       "    .dataframe thead th {\n",
       "        text-align: right;\n",
       "    }\n",
       "</style>\n",
       "<table border=\"1\" class=\"dataframe\">\n",
       "  <thead>\n",
       "    <tr style=\"text-align: right;\">\n",
       "      <th></th>\n",
       "      <th>Age_Group</th>\n",
       "      <th>Sex</th>\n",
       "      <th>Educ_level</th>\n",
       "      <th>%Value</th>\n",
       "    </tr>\n",
       "    <tr>\n",
       "      <th>Year</th>\n",
       "      <th></th>\n",
       "      <th></th>\n",
       "      <th></th>\n",
       "      <th></th>\n",
       "    </tr>\n",
       "  </thead>\n",
       "  <tbody>\n",
       "    <tr>\n",
       "      <th>2009</th>\n",
       "      <td>15 - 19 years</td>\n",
       "      <td>Both sexes</td>\n",
       "      <td>Primary</td>\n",
       "      <td>2</td>\n",
       "    </tr>\n",
       "    <tr>\n",
       "      <th>2009</th>\n",
       "      <td>15 - 19 years</td>\n",
       "      <td>Both sexes</td>\n",
       "      <td>Lower secondary</td>\n",
       "      <td>8</td>\n",
       "    </tr>\n",
       "    <tr>\n",
       "      <th>2009</th>\n",
       "      <td>15 - 19 years</td>\n",
       "      <td>Both sexes</td>\n",
       "      <td>Upper secondary</td>\n",
       "      <td>52</td>\n",
       "    </tr>\n",
       "    <tr>\n",
       "      <th>2009</th>\n",
       "      <td>15 - 19 years</td>\n",
       "      <td>Both sexes</td>\n",
       "      <td>Post leaving cert</td>\n",
       "      <td>11</td>\n",
       "    </tr>\n",
       "    <tr>\n",
       "      <th>2009</th>\n",
       "      <td>15 - 19 years</td>\n",
       "      <td>Both sexes</td>\n",
       "      <td>Third level</td>\n",
       "      <td>27</td>\n",
       "    </tr>\n",
       "    <tr>\n",
       "      <th>...</th>\n",
       "      <td>...</td>\n",
       "      <td>...</td>\n",
       "      <td>...</td>\n",
       "      <td>...</td>\n",
       "    </tr>\n",
       "    <tr>\n",
       "      <th>2009</th>\n",
       "      <td>60 - 64 years</td>\n",
       "      <td>Female</td>\n",
       "      <td>Third level</td>\n",
       "      <td>22</td>\n",
       "    </tr>\n",
       "    <tr>\n",
       "      <th>2009</th>\n",
       "      <td>60 - 64 years</td>\n",
       "      <td>Female</td>\n",
       "      <td>Higher certificate</td>\n",
       "      <td>3</td>\n",
       "    </tr>\n",
       "    <tr>\n",
       "      <th>2009</th>\n",
       "      <td>60 - 64 years</td>\n",
       "      <td>Female</td>\n",
       "      <td>Ordinary bachelor degree/professional qualific...</td>\n",
       "      <td>8</td>\n",
       "    </tr>\n",
       "    <tr>\n",
       "      <th>2009</th>\n",
       "      <td>60 - 64 years</td>\n",
       "      <td>Female</td>\n",
       "      <td>Honours bachelor degree/professional qualifica...</td>\n",
       "      <td>8</td>\n",
       "    </tr>\n",
       "    <tr>\n",
       "      <th>2009</th>\n",
       "      <td>60 - 64 years</td>\n",
       "      <td>Female</td>\n",
       "      <td>Postgraduate diploma/degree or Doctorate (Ph.D.)</td>\n",
       "      <td>3</td>\n",
       "    </tr>\n",
       "  </tbody>\n",
       "</table>\n",
       "<p>216 rows × 4 columns</p>\n",
       "</div>"
      ],
      "text/plain": [
       "          Age_Group         Sex  \\\n",
       "Year                              \n",
       "2009  15 - 19 years  Both sexes   \n",
       "2009  15 - 19 years  Both sexes   \n",
       "2009  15 - 19 years  Both sexes   \n",
       "2009  15 - 19 years  Both sexes   \n",
       "2009  15 - 19 years  Both sexes   \n",
       "...             ...         ...   \n",
       "2009  60 - 64 years      Female   \n",
       "2009  60 - 64 years      Female   \n",
       "2009  60 - 64 years      Female   \n",
       "2009  60 - 64 years      Female   \n",
       "2009  60 - 64 years      Female   \n",
       "\n",
       "                                             Educ_level  %Value  \n",
       "Year                                                             \n",
       "2009                                            Primary       2  \n",
       "2009                                    Lower secondary       8  \n",
       "2009                                    Upper secondary      52  \n",
       "2009                                  Post leaving cert      11  \n",
       "2009                                        Third level      27  \n",
       "...                                                 ...     ...  \n",
       "2009                                        Third level      22  \n",
       "2009                                 Higher certificate       3  \n",
       "2009  Ordinary bachelor degree/professional qualific...       8  \n",
       "2009  Honours bachelor degree/professional qualifica...       8  \n",
       "2009   Postgraduate diploma/degree or Doctorate (Ph.D.)       3  \n",
       "\n",
       "[216 rows x 4 columns]"
      ]
     },
     "execution_count": 35,
     "metadata": {},
     "output_type": "execute_result"
    }
   ],
   "source": [
    "ed2009"
   ]
  },
  {
   "cell_type": "code",
   "execution_count": 36,
   "id": "9f638f7a-2b67-4c29-836a-42edeaa2d63c",
   "metadata": {},
   "outputs": [],
   "source": [
    "ed2009_both = ed2009[(ed2009[\"Age_Group\"]== '15 - 64 years') & (ed2009['Sex'] == \"Both sexes\")]"
   ]
  },
  {
   "cell_type": "code",
   "execution_count": 37,
   "id": "9d1231b9-6e8b-45ff-900d-757b65a717d3",
   "metadata": {
    "tags": []
   },
   "outputs": [
    {
     "data": {
      "text/plain": [
       "131"
      ]
     },
     "execution_count": 37,
     "metadata": {},
     "output_type": "execute_result"
    }
   ],
   "source": [
    "ed2009_both[\"%Value\"].sum()"
   ]
  },
  {
   "cell_type": "code",
   "execution_count": null,
   "id": "6cbb8a86-4b9a-4464-8ce1-225534eed1ef",
   "metadata": {},
   "outputs": [],
   "source": [
    "#3rd level Education"
   ]
  },
  {
   "cell_type": "code",
   "execution_count": 76,
   "id": "1cf90e30-358d-407f-955a-213d7034c804",
   "metadata": {},
   "outputs": [],
   "source": [
    "third_level = education_data[(education_data['Educ_level']== 'Third level') & (education_data[\"Sex\"] == 'Both sexes')].reset_index()"
   ]
  },
  {
   "cell_type": "markdown",
   "id": "b05d10b3-5dd6-4e07-965f-3c1585af09e0",
   "metadata": {},
   "source": [
    "#split datasets by sex and ages 25-44 with 3rd level qualification, reset index"
   ]
  },
  {
   "cell_type": "code",
   "execution_count": 38,
   "id": "32f20480-4c49-41e1-ba1e-9c71b4136aa6",
   "metadata": {},
   "outputs": [],
   "source": [
    "def split_ed(df, gender):\n",
    "    gender = df.Sex == gender\n",
    "    df = df.loc[gender]\n",
    "    df = df[df[\"Age_Group\"].isin(['25 - 34 years','35 - 44 years'])]\n",
    "    df = df[df['Educ_level']== 'Third level']\n",
    "    return df"
   ]
  },
  {
   "cell_type": "code",
   "execution_count": 39,
   "id": "80a4abef-13f8-46b0-8858-e69a3c0e6b5d",
   "metadata": {},
   "outputs": [],
   "source": [
    "female_ed = split_ed(education_data, \"Female\")"
   ]
  },
  {
   "cell_type": "code",
   "execution_count": 40,
   "id": "6638e991-8c8e-4ba0-8b4a-8f0c2eb40283",
   "metadata": {},
   "outputs": [
    {
     "data": {
      "text/html": [
       "<div>\n",
       "<style scoped>\n",
       "    .dataframe tbody tr th:only-of-type {\n",
       "        vertical-align: middle;\n",
       "    }\n",
       "\n",
       "    .dataframe tbody tr th {\n",
       "        vertical-align: top;\n",
       "    }\n",
       "\n",
       "    .dataframe thead th {\n",
       "        text-align: right;\n",
       "    }\n",
       "</style>\n",
       "<table border=\"1\" class=\"dataframe\">\n",
       "  <thead>\n",
       "    <tr style=\"text-align: right;\">\n",
       "      <th></th>\n",
       "      <th>Age_Group</th>\n",
       "      <th>Sex</th>\n",
       "      <th>Educ_level</th>\n",
       "      <th>%Value</th>\n",
       "    </tr>\n",
       "    <tr>\n",
       "      <th>Year</th>\n",
       "      <th></th>\n",
       "      <th></th>\n",
       "      <th></th>\n",
       "      <th></th>\n",
       "    </tr>\n",
       "  </thead>\n",
       "  <tbody>\n",
       "    <tr>\n",
       "      <th>2009</th>\n",
       "      <td>25 - 34 years</td>\n",
       "      <td>Female</td>\n",
       "      <td>Third level</td>\n",
       "      <td>57</td>\n",
       "    </tr>\n",
       "    <tr>\n",
       "      <th>2009</th>\n",
       "      <td>35 - 44 years</td>\n",
       "      <td>Female</td>\n",
       "      <td>Third level</td>\n",
       "      <td>50</td>\n",
       "    </tr>\n",
       "    <tr>\n",
       "      <th>2010</th>\n",
       "      <td>25 - 34 years</td>\n",
       "      <td>Female</td>\n",
       "      <td>Third level</td>\n",
       "      <td>58</td>\n",
       "    </tr>\n",
       "    <tr>\n",
       "      <th>2010</th>\n",
       "      <td>35 - 44 years</td>\n",
       "      <td>Female</td>\n",
       "      <td>Third level</td>\n",
       "      <td>54</td>\n",
       "    </tr>\n",
       "    <tr>\n",
       "      <th>2011</th>\n",
       "      <td>25 - 34 years</td>\n",
       "      <td>Female</td>\n",
       "      <td>Third level</td>\n",
       "      <td>60</td>\n",
       "    </tr>\n",
       "  </tbody>\n",
       "</table>\n",
       "</div>"
      ],
      "text/plain": [
       "          Age_Group     Sex   Educ_level  %Value\n",
       "Year                                            \n",
       "2009  25 - 34 years  Female  Third level      57\n",
       "2009  35 - 44 years  Female  Third level      50\n",
       "2010  25 - 34 years  Female  Third level      58\n",
       "2010  35 - 44 years  Female  Third level      54\n",
       "2011  25 - 34 years  Female  Third level      60"
      ]
     },
     "execution_count": 40,
     "metadata": {},
     "output_type": "execute_result"
    }
   ],
   "source": [
    "female_ed.head()"
   ]
  },
  {
   "cell_type": "code",
   "execution_count": 41,
   "id": "cebda6f9-ad47-4f34-be83-6cee5146718e",
   "metadata": {},
   "outputs": [],
   "source": [
    "male_ed = split_ed(education_data, 'Male').reset_index()"
   ]
  },
  {
   "cell_type": "code",
   "execution_count": 42,
   "id": "cc043ce3-aeb3-4ba2-8f67-733d083fea00",
   "metadata": {},
   "outputs": [
    {
     "name": "stdout",
     "output_type": "stream",
     "text": [
      "<class 'pandas.core.frame.DataFrame'>\n",
      "RangeIndex: 28 entries, 0 to 27\n",
      "Data columns (total 5 columns):\n",
      " #   Column      Non-Null Count  Dtype \n",
      "---  ------      --------------  ----- \n",
      " 0   Year        28 non-null     int64 \n",
      " 1   Age_Group   28 non-null     object\n",
      " 2   Sex         28 non-null     object\n",
      " 3   Educ_level  28 non-null     object\n",
      " 4   %Value      28 non-null     int64 \n",
      "dtypes: int64(2), object(3)\n",
      "memory usage: 1.2+ KB\n"
     ]
    }
   ],
   "source": [
    "male_ed.info()"
   ]
  },
  {
   "cell_type": "markdown",
   "id": "41f10744-d304-47ba-b56f-7723c6434449",
   "metadata": {},
   "source": [
    "# Joining Dataframes"
   ]
  },
  {
   "cell_type": "code",
   "execution_count": 43,
   "id": "a24c0523-e470-4316-8625-9aeef697ccae",
   "metadata": {},
   "outputs": [],
   "source": [
    "F_ed_wed = F_marriage_age.merge(female_ed, on = \"Year\").drop([\"Sex\"],axis=1)"
   ]
  },
  {
   "cell_type": "code",
   "execution_count": 44,
   "id": "9c204a70-8908-4253-85dc-cd3812e78039",
   "metadata": {},
   "outputs": [],
   "source": [
    "M_ed_wed = M_marriage_age.merge(male_ed, on = \"Year\").drop([\"Sex\"],axis=1)"
   ]
  },
  {
   "cell_type": "code",
   "execution_count": 68,
   "id": "726a4e51-1b23-4702-a18c-73ec03e57b95",
   "metadata": {},
   "outputs": [
    {
     "data": {
      "text/html": [
       "<div>\n",
       "<style scoped>\n",
       "    .dataframe tbody tr th:only-of-type {\n",
       "        vertical-align: middle;\n",
       "    }\n",
       "\n",
       "    .dataframe tbody tr th {\n",
       "        vertical-align: top;\n",
       "    }\n",
       "\n",
       "    .dataframe thead th {\n",
       "        text-align: right;\n",
       "    }\n",
       "</style>\n",
       "<table border=\"1\" class=\"dataframe\">\n",
       "  <thead>\n",
       "    <tr style=\"text-align: right;\">\n",
       "      <th></th>\n",
       "      <th>Year</th>\n",
       "      <th>Gender</th>\n",
       "      <th>Ceremony</th>\n",
       "      <th>Age</th>\n",
       "      <th>Age_Group</th>\n",
       "      <th>Educ_level</th>\n",
       "      <th>%Value</th>\n",
       "    </tr>\n",
       "  </thead>\n",
       "  <tbody>\n",
       "    <tr>\n",
       "      <th>0</th>\n",
       "      <td>2009</td>\n",
       "      <td>Male</td>\n",
       "      <td>All ceremonies</td>\n",
       "      <td>34.0</td>\n",
       "      <td>25 - 34 years</td>\n",
       "      <td>Third level</td>\n",
       "      <td>44</td>\n",
       "    </tr>\n",
       "    <tr>\n",
       "      <th>1</th>\n",
       "      <td>2009</td>\n",
       "      <td>Male</td>\n",
       "      <td>All ceremonies</td>\n",
       "      <td>34.0</td>\n",
       "      <td>35 - 44 years</td>\n",
       "      <td>Third level</td>\n",
       "      <td>44</td>\n",
       "    </tr>\n",
       "    <tr>\n",
       "      <th>2</th>\n",
       "      <td>2010</td>\n",
       "      <td>Male</td>\n",
       "      <td>All ceremonies</td>\n",
       "      <td>34.1</td>\n",
       "      <td>25 - 34 years</td>\n",
       "      <td>Third level</td>\n",
       "      <td>46</td>\n",
       "    </tr>\n",
       "    <tr>\n",
       "      <th>3</th>\n",
       "      <td>2010</td>\n",
       "      <td>Male</td>\n",
       "      <td>All ceremonies</td>\n",
       "      <td>34.1</td>\n",
       "      <td>35 - 44 years</td>\n",
       "      <td>Third level</td>\n",
       "      <td>45</td>\n",
       "    </tr>\n",
       "    <tr>\n",
       "      <th>4</th>\n",
       "      <td>2011</td>\n",
       "      <td>Male</td>\n",
       "      <td>All ceremonies</td>\n",
       "      <td>34.6</td>\n",
       "      <td>25 - 34 years</td>\n",
       "      <td>Third level</td>\n",
       "      <td>45</td>\n",
       "    </tr>\n",
       "  </tbody>\n",
       "</table>\n",
       "</div>"
      ],
      "text/plain": [
       "   Year Gender        Ceremony   Age      Age_Group   Educ_level  %Value\n",
       "0  2009   Male  All ceremonies  34.0  25 - 34 years  Third level      44\n",
       "1  2009   Male  All ceremonies  34.0  35 - 44 years  Third level      44\n",
       "2  2010   Male  All ceremonies  34.1  25 - 34 years  Third level      46\n",
       "3  2010   Male  All ceremonies  34.1  35 - 44 years  Third level      45\n",
       "4  2011   Male  All ceremonies  34.6  25 - 34 years  Third level      45"
      ]
     },
     "execution_count": 68,
     "metadata": {},
     "output_type": "execute_result"
    }
   ],
   "source": [
    "M_ed_wed.head()"
   ]
  },
  {
   "cell_type": "markdown",
   "id": "cd7ef4de-0157-423d-b00e-cf25ece9c17b",
   "metadata": {},
   "source": [
    "# Analysis"
   ]
  },
  {
   "cell_type": "code",
   "execution_count": null,
   "id": "aca06629-4853-4ee2-a269-97cb42c32bfc",
   "metadata": {},
   "outputs": [],
   "source": [
    "# Analysis of Marriage Age"
   ]
  },
  {
   "cell_type": "code",
   "execution_count": 49,
   "id": "b531a315-d1bd-45f5-a2da-f513bd8d8a2b",
   "metadata": {},
   "outputs": [
    {
     "data": {
      "image/png": "[encoded data removed]",
      "text/plain": [
       "<Figure size 553.875x360 with 1 Axes>"
      ]
     },
     "metadata": {
      "needs_background": "light"
     },
     "output_type": "display_data"
    }
   ],
   "source": [
    "sns.relplot(x= \"Year\", y = \"Age\", data = marriage_byyear,kind = \"line\", hue = \"Ceremony\", ci=None)\n",
    "plt.show()"
   ]
  },
  {
   "cell_type": "code",
   "execution_count": 66,
   "id": "710268e5-0c5a-4751-93c0-9b4da3af7e31",
   "metadata": {},
   "outputs": [
    {
     "data": {
      "image/png": "[encoded data removed]",
      "text/plain": [
       "<Figure size 432x288 with 2 Axes>"
      ]
     },
     "metadata": {
      "needs_background": "light"
     },
     "output_type": "display_data"
    }
   ],
   "source": [
    "fig, axes = plt.subplots(1, 2, sharey=True)\n",
    "sns.lineplot(data=F_marriage_age, x='Year', y='Age', ax=axes[0]).set_title('Female')\n",
    "sns.lineplot(data=M_marriage_age, x='Year', y='Age', ax=axes[1]).set_title('Male')\n",
    "plt.show()"
   ]
  },
  {
   "cell_type": "code",
   "execution_count": 67,
   "id": "19ce014b-8472-4fd3-9b5b-0d34855a20f7",
   "metadata": {},
   "outputs": [],
   "source": [
    "#Analysis of 3rd Level Education "
   ]
  },
  {
   "cell_type": "code",
   "execution_count": 80,
   "id": "044b53f7-d40e-4ae7-bfaa-79d0baaeb33e",
   "metadata": {},
   "outputs": [
    {
     "data": {
      "image/png": "[encoded data removed]",
      "text/plain": [
       "<Figure size 462x360 with 1 Axes>"
      ]
     },
     "metadata": {
      "needs_background": "light"
     },
     "output_type": "display_data"
    }
   ],
   "source": [
    "sns.relplot(x= \"Year\", y = \"%Value\", data = third_level ,kind = \"line\", hue = \"Age_Group\", ci=None)\n",
    "plt.show()"
   ]
  },
  {
   "cell_type": "code",
   "execution_count": null,
   "id": "794adc48-e3a6-4344-b9eb-fbe3a4059f75",
   "metadata": {},
   "outputs": [],
   "source": [
    "#Analysis of 3rd level education v Marriage Age for those aged 25-44"
   ]
  },
  {
   "cell_type": "code",
   "execution_count": 88,
   "id": "22d5940a-484e-45c9-b123-ea228d85ab77",
   "metadata": {},
   "outputs": [
    {
     "data": {
      "image/png": "[encoded data removed]",
      "text/plain": [
       "<Figure size 432x288 with 2 Axes>"
      ]
     },
     "metadata": {
      "needs_background": "light"
     },
     "output_type": "display_data"
    }
   ],
   "source": [
    "fig, axes = plt.subplots(2, 1, sharey=True)\n",
    "sns.lineplot(x= \"Year\", y = \"%Value\", data = F_ed_wed , hue = \"Age_Group\",ax=axes[0] )\n",
    "sns.lineplot(x= \"Year\", y = \"%Value\", data = M_ed_wed , hue = \"Age_Group\",ax=axes[1]\n",
    "            )\n",
    "plt.show()"
   ]
  }
 ],
 "metadata": {
  "kernelspec": {
   "display_name": "Python 3",
   "language": "python",
   "name": "python3"
  },
  "language_info": {
   "codemirror_mode": {
    "name": "ipython",
    "version": 3
   },
   "file_extension": ".py",
   "mimetype": "text/x-python",
   "name": "python",
   "nbconvert_exporter": "python",
   "pygments_lexer": "ipython3",
   "version": "3.8.8"
  }
 },
 "nbformat": 4,
 "nbformat_minor": 5
}
